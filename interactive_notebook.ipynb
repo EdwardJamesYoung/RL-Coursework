{
 "cells": [
  {
   "cell_type": "code",
   "execution_count": 10,
   "metadata": {},
   "outputs": [
    {
     "name": "stderr",
     "output_type": "stream",
     "text": [
      "c:\\Users\\edwar\\.conda\\envs\\RL\\Lib\\site-packages\\jaxtyping\\_decorator.py:73: InstrumentationWarning: instrumentor did not find the target function -- not typechecking memory_classes.ReplayBuffer.add\n",
      "  return typechecker(fn)\n"
     ]
    }
   ],
   "source": [
    "import gymnasium\n",
    "import torch\n",
    "\n",
    "import importlib\n",
    "import on_policy_agents\n",
    "import off_policy_agents\n",
    "import helpers\n",
    "import env_wrappers\n",
    "import memory_classes\n",
    "\n",
    "importlib.reload(on_policy_agents)\n",
    "importlib.reload(off_policy_agents)\n",
    "importlib.reload(env_wrappers)\n",
    "importlib.reload(helpers)\n",
    "importlib.reload(memory_classes)\n",
    "\n",
    "from off_policy_agents import DQNAgent, DDPGAgent\n",
    "from on_policy_agents import A2CAgent, PPOAgent\n",
    "from env_wrappers import PyTorchGymWrapper\n",
    "from helpers import evaluate"
   ]
  },
  {
   "cell_type": "code",
   "execution_count": 11,
   "metadata": {},
   "outputs": [],
   "source": [
    "env = gymnasium.make('Pendulum-v1', render_mode='rgb_array')\n",
    "env = PyTorchGymWrapper(env)"
   ]
  },
  {
   "cell_type": "code",
   "execution_count": null,
   "metadata": {},
   "outputs": [],
   "source": [
    "agent = DQNAgent(env, hyperparameters={})"
   ]
  },
  {
   "cell_type": "code",
   "execution_count": 13,
   "metadata": {},
   "outputs": [
    {
     "name": "stdout",
     "output_type": "stream",
     "text": [
      "Pre-training return: tensor([-1110.2789])\n"
     ]
    }
   ],
   "source": [
    "pre_training_returns = evaluate(agent, env, num_episodes=10)\n",
    "print(f'Pre-training return: {sum(pre_training_returns)/len(pre_training_returns)}')"
   ]
  },
  {
   "cell_type": "code",
   "execution_count": 14,
   "metadata": {},
   "outputs": [],
   "source": [
    "agent.train(env, total_steps=100000)"
   ]
  },
  {
   "cell_type": "code",
   "execution_count": 15,
   "metadata": {},
   "outputs": [],
   "source": [
    "returns = evaluate(agent, env, num_episodes=25)"
   ]
  },
  {
   "cell_type": "code",
   "execution_count": 16,
   "metadata": {},
   "outputs": [
    {
     "name": "stdout",
     "output_type": "stream",
     "text": [
      "Average return: tensor([-167.6216])\n"
     ]
    }
   ],
   "source": [
    "print(f\"Average return: {sum(returns)/len(returns)}\")"
   ]
  },
  {
   "cell_type": "code",
   "execution_count": null,
   "metadata": {},
   "outputs": [],
   "source": []
  }
 ],
 "metadata": {
  "kernelspec": {
   "display_name": "RL",
   "language": "python",
   "name": "python3"
  },
  "language_info": {
   "codemirror_mode": {
    "name": "ipython",
    "version": 3
   },
   "file_extension": ".py",
   "mimetype": "text/x-python",
   "name": "python",
   "nbconvert_exporter": "python",
   "pygments_lexer": "ipython3",
   "version": "3.12.7"
  }
 },
 "nbformat": 4,
 "nbformat_minor": 2
}
